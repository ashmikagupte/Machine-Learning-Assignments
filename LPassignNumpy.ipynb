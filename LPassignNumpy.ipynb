{
  "nbformat": 4,
  "nbformat_minor": 0,
  "metadata": {
    "colab": {
      "name": "LPassignNumpy.ipynb",
      "provenance": [],
      "collapsed_sections": []
    },
    "kernelspec": {
      "name": "python3",
      "display_name": "Python 3"
    },
    "language_info": {
      "name": "python"
    }
  },
  "cells": [
    {
      "cell_type": "markdown",
      "metadata": {
        "id": "aoqqbEXlNWKq"
      },
      "source": [
        "**Ashmika Gupte (33228)**"
      ]
    },
    {
      "cell_type": "code",
      "metadata": {
        "id": "gxZRV74NAhOL"
      },
      "source": [
        "import numpy as np"
      ],
      "execution_count": null,
      "outputs": []
    },
    {
      "cell_type": "code",
      "metadata": {
        "id": "DFoe8iQYAtVb"
      },
      "source": [
        "arr1 = np.random.randint(1,10,(2,3))\n",
        "arr2 = np.random.randint(11,20,(2,3))"
      ],
      "execution_count": null,
      "outputs": []
    },
    {
      "cell_type": "markdown",
      "metadata": {
        "id": "A7avubNPJAMo"
      },
      "source": [
        "**Perform element wise addition of two numpy arrays :**"
      ]
    },
    {
      "cell_type": "code",
      "metadata": {
        "colab": {
          "base_uri": "https://localhost:8080/"
        },
        "id": "XbFvYdJ9BSmH",
        "outputId": "b5b1effc-187e-411e-b13c-9bd71f9425d9"
      },
      "source": [
        "print(\"First array : \\n\",arr1)\n",
        "print(\"Second array : \\n\",arr2)\n",
        "sum = np.add(arr1,arr2)\n",
        "print(\"Addition : \\n\",sum)"
      ],
      "execution_count": null,
      "outputs": [
        {
          "output_type": "stream",
          "name": "stdout",
          "text": [
            "First array : \n",
            " [[5 5 6]\n",
            " [1 5 8]]\n",
            "Second array : \n",
            " [[14 12 11]\n",
            " [17 19 16]]\n",
            "Addition : \n",
            " [[19 17 17]\n",
            " [18 24 24]]\n"
          ]
        }
      ]
    },
    {
      "cell_type": "markdown",
      "metadata": {
        "id": "JXIC4JZ5JH7B"
      },
      "source": [
        "**Multiply a matrix (numpy array) by a scalar :**  "
      ]
    },
    {
      "cell_type": "code",
      "metadata": {
        "colab": {
          "base_uri": "https://localhost:8080/"
        },
        "id": "NIgYalRcBsJs",
        "outputId": "2048a44a-fd4f-4285-f1d0-c4fccab7ac58"
      },
      "source": [
        "print(\"Array : \\n\",arr1)\n",
        "print(\"Array multiplied by 5 : \\n\",np.multiply(arr1,5))"
      ],
      "execution_count": null,
      "outputs": [
        {
          "output_type": "stream",
          "name": "stdout",
          "text": [
            "Array : \n",
            " [[5 5 6]\n",
            " [1 5 8]]\n",
            "Array multiplied by 5 : \n",
            " [[25 25 30]\n",
            " [ 5 25 40]]\n"
          ]
        }
      ]
    },
    {
      "cell_type": "markdown",
      "metadata": {
        "id": "NboJMmuoJQDX"
      },
      "source": [
        "**Convert a 1-D array to a 3-D array :**"
      ]
    },
    {
      "cell_type": "code",
      "metadata": {
        "colab": {
          "base_uri": "https://localhost:8080/"
        },
        "id": "s6jXYZCkCVld",
        "outputId": "a78fcd16-4f68-4fa4-92c1-27f34b9d89fc"
      },
      "source": [
        "arr3 = np.random.randint(1,50,(1,27))\n",
        "print(\"1D Array : \\n\",arr3)\n",
        "arr=np.reshape(arr3,(3,3,3))\n",
        "print(\"3D Array : \\n\",arr)"
      ],
      "execution_count": null,
      "outputs": [
        {
          "output_type": "stream",
          "name": "stdout",
          "text": [
            "1D Array : \n",
            " [[ 2  3 49 26  6 13 42 45 38 17 27 45 19 45 20 38 29 37  2  2 11 13 22 25\n",
            "  11  2 45]]\n",
            "3D Array : \n",
            " [[[ 2  3 49]\n",
            "  [26  6 13]\n",
            "  [42 45 38]]\n",
            "\n",
            " [[17 27 45]\n",
            "  [19 45 20]\n",
            "  [38 29 37]]\n",
            "\n",
            " [[ 2  2 11]\n",
            "  [13 22 25]\n",
            "  [11  2 45]]]\n"
          ]
        }
      ]
    },
    {
      "cell_type": "markdown",
      "metadata": {
        "id": "E92u044CJVep"
      },
      "source": [
        "**Convert all elements of a numpy array from float to integer datatype :** "
      ]
    },
    {
      "cell_type": "code",
      "metadata": {
        "colab": {
          "base_uri": "https://localhost:8080/"
        },
        "id": "jmkpIaFRDvCt",
        "outputId": "e28c24a3-c241-4ef0-ff2f-56b115919cff"
      },
      "source": [
        "arr3 = np.random.uniform(5.5,10.5,(2,2))\n",
        "print(\"Float Array : \\n\",arr3)\n",
        "int_array = arr3.astype(int)\n",
        "print(\"Integer array : \\n\",int_array)\n"
      ],
      "execution_count": null,
      "outputs": [
        {
          "output_type": "stream",
          "name": "stdout",
          "text": [
            "Float Array : \n",
            " [[8.06039067 9.83019421]\n",
            " [6.73224834 6.59967162]]\n",
            "Integer array : \n",
            " [[8 9]\n",
            " [6 6]]\n"
          ]
        }
      ]
    },
    {
      "cell_type": "markdown",
      "metadata": {
        "id": "9-9BCF7NJb2O"
      },
      "source": [
        "**Convert a binary numpy array to a boolean numpy array :**"
      ]
    },
    {
      "cell_type": "code",
      "metadata": {
        "colab": {
          "base_uri": "https://localhost:8080/"
        },
        "id": "7X6A5Cp7E9Zx",
        "outputId": "c48494f6-c760-4e28-9449-6984a426457a"
      },
      "source": [
        "arr3 = []\n",
        "for i in range(10):\n",
        "    n = np.random.randint(0,2)\n",
        "    arr3.append(n)\n",
        "print(\"Binary Array : \\n\",arr3)  \n",
        "arr = np.array(arr3,dtype='bool')\n",
        "print(\"Boolean Array : \\n\", arr)"
      ],
      "execution_count": null,
      "outputs": [
        {
          "output_type": "stream",
          "name": "stdout",
          "text": [
            "Binary Array : \n",
            " [1, 0, 0, 0, 1, 1, 0, 1, 0, 1]\n",
            "Boolean Array : \n",
            " [ True False False False  True  True False  True False  True]\n"
          ]
        }
      ]
    },
    {
      "cell_type": "markdown",
      "metadata": {
        "id": "8q1TiVKIJqqx"
      },
      "source": [
        "**Stack two numpy arrays horizontally :** "
      ]
    },
    {
      "cell_type": "code",
      "metadata": {
        "colab": {
          "base_uri": "https://localhost:8080/"
        },
        "id": "7FpBfu7LF2Rx",
        "outputId": "7f2c9509-0278-4f10-fcfc-03256b34a646"
      },
      "source": [
        "print(\"First Array : \\n\",arr1)\n",
        "print(\"Second Array : \\n\",arr2)\n",
        "arr3 = np.hstack((arr1,arr2))\n",
        "print(\"Stacked Array : \\n\",arr3)"
      ],
      "execution_count": null,
      "outputs": [
        {
          "output_type": "stream",
          "name": "stdout",
          "text": [
            "First Array : \n",
            " [[5 5 6]\n",
            " [1 5 8]]\n",
            "Second Array : \n",
            " [[14 12 11]\n",
            " [17 19 16]]\n",
            "Stacked Array : \n",
            " [[ 5  5  6 14 12 11]\n",
            " [ 1  5  8 17 19 16]]\n"
          ]
        }
      ]
    },
    {
      "cell_type": "markdown",
      "metadata": {
        "id": "Ie21L5f-JsQJ"
      },
      "source": [
        "**Stack two numpy arrays vertically :** "
      ]
    },
    {
      "cell_type": "code",
      "metadata": {
        "colab": {
          "base_uri": "https://localhost:8080/"
        },
        "id": "AMdvSpqBGUvP",
        "outputId": "5b3a5cff-bf9d-4f0c-df9f-a6cdf40c4373"
      },
      "source": [
        "print(\"First Array : \\n\",arr1)\n",
        "print(\"Second Array : \\n\",arr2)\n",
        "arr3 = np.vstack((arr1,arr2))\n",
        "print(\"Stacked Array : \\n\",arr3)"
      ],
      "execution_count": null,
      "outputs": [
        {
          "output_type": "stream",
          "name": "stdout",
          "text": [
            "First Array : \n",
            " [[5 5 6]\n",
            " [1 5 8]]\n",
            "Second Array : \n",
            " [[14 12 11]\n",
            " [17 19 16]]\n",
            "Stacked Array : \n",
            " [[ 5  5  6]\n",
            " [ 1  5  8]\n",
            " [14 12 11]\n",
            " [17 19 16]]\n"
          ]
        }
      ]
    },
    {
      "cell_type": "markdown",
      "metadata": {
        "id": "CQeXHE2NJwZC"
      },
      "source": [
        "**Generate a sequence in the form of numpy array from 0,100 with step 2 :**"
      ]
    },
    {
      "cell_type": "code",
      "metadata": {
        "colab": {
          "base_uri": "https://localhost:8080/"
        },
        "id": "PramBPhVGZHy",
        "outputId": "09747375-483e-444b-f50a-cfd3f259cf89"
      },
      "source": [
        "seq = np.arange(0, 101, 2)\n",
        "print(seq)"
      ],
      "execution_count": null,
      "outputs": [
        {
          "output_type": "stream",
          "name": "stdout",
          "text": [
            "[  0   2   4   6   8  10  12  14  16  18  20  22  24  26  28  30  32  34\n",
            "  36  38  40  42  44  46  48  50  52  54  56  58  60  62  64  66  68  70\n",
            "  72  74  76  78  80  82  84  86  88  90  92  94  96  98 100]\n"
          ]
        }
      ]
    },
    {
      "cell_type": "markdown",
      "metadata": {
        "id": "kf-dhtmuJ8VS"
      },
      "source": [
        "**Extract the indexes in which the elements in the two arrays match :** "
      ]
    },
    {
      "cell_type": "code",
      "metadata": {
        "colab": {
          "base_uri": "https://localhost:8080/"
        },
        "id": "kyGF6VVRGw4N",
        "outputId": "b10466fa-6b59-41ed-f36f-cc487e1f6b9d"
      },
      "source": [
        "arr4 = np.array([1,3,5,7,9,2,4,6,8,0])\n",
        "arr5 = np.array([9,7,5,3,1,2,6,8,4,0])\n",
        "np.where(arr4==arr5)\n"
      ],
      "execution_count": null,
      "outputs": [
        {
          "output_type": "execute_result",
          "data": {
            "text/plain": [
              "(array([2, 5, 9]),)"
            ]
          },
          "metadata": {},
          "execution_count": 14
        }
      ]
    },
    {
      "cell_type": "markdown",
      "metadata": {
        "id": "gcXBwCtdKITy"
      },
      "source": [
        "**Generate a sequence of number in the form of numpy array from 0,100 with step 5:**"
      ]
    },
    {
      "cell_type": "code",
      "metadata": {
        "colab": {
          "base_uri": "https://localhost:8080/"
        },
        "id": "rE-ZlXmnH0cH",
        "outputId": "6d0134ff-f0af-4095-aa9d-add76c58b928"
      },
      "source": [
        "seq = np.arange(0,101,5)\n",
        "print(seq)"
      ],
      "execution_count": null,
      "outputs": [
        {
          "output_type": "stream",
          "name": "stdout",
          "text": [
            "[  0   5  10  15  20  25  30  35  40  45  50  55  60  65  70  75  80  85\n",
            "  90  95 100]\n"
          ]
        }
      ]
    },
    {
      "cell_type": "markdown",
      "metadata": {
        "id": "Bt6U0uE7KP5R"
      },
      "source": [
        "**Output a matrix of dimension 2x3 with each and every value equal to 5 :**"
      ]
    },
    {
      "cell_type": "code",
      "metadata": {
        "colab": {
          "base_uri": "https://localhost:8080/"
        },
        "id": "3dGutO6JIFNz",
        "outputId": "7dfae5c0-3a5b-4c92-b288-79512dfb5b69"
      },
      "source": [
        "arr = np.full((2, 3), 5)\n",
        "print(arr)"
      ],
      "execution_count": null,
      "outputs": [
        {
          "output_type": "stream",
          "name": "stdout",
          "text": [
            "[[5 5 5]\n",
            " [5 5 5]]\n"
          ]
        }
      ]
    },
    {
      "cell_type": "markdown",
      "metadata": {
        "id": "Tm0rAGUjKZfz"
      },
      "source": [
        "**Extract all odd numbers from the array :** "
      ]
    },
    {
      "cell_type": "code",
      "metadata": {
        "colab": {
          "base_uri": "https://localhost:8080/"
        },
        "id": "H-EsxLs3IVd7",
        "outputId": "e4cfcdf6-a1e2-490c-872e-3857dbe0e35a"
      },
      "source": [
        "arr = np.array([0,1,2,3,4,5,6,7,8,9])\n",
        "odd_arr = arr[arr % 2 == 1]\n",
        "odd_arr"
      ],
      "execution_count": null,
      "outputs": [
        {
          "output_type": "execute_result",
          "data": {
            "text/plain": [
              "array([1, 3, 5, 7, 9])"
            ]
          },
          "metadata": {},
          "execution_count": 17
        }
      ]
    },
    {
      "cell_type": "markdown",
      "metadata": {
        "id": "UzAEhHrvKdxw"
      },
      "source": [
        "**Replace all odd numbers in the array by -1 :**"
      ]
    },
    {
      "cell_type": "code",
      "metadata": {
        "colab": {
          "base_uri": "https://localhost:8080/"
        },
        "id": "eLNHqrgHItB8",
        "outputId": "c8263af8-4b8b-4708-f84e-269cef3296cc"
      },
      "source": [
        "arr = np.array([0,1,2,3,4,5,6,7,8,9])\n",
        "arr[arr%2 == 1] = -1 \n",
        "arr"
      ],
      "execution_count": null,
      "outputs": [
        {
          "output_type": "execute_result",
          "data": {
            "text/plain": [
              "array([ 0, -1,  2, -1,  4, -1,  6, -1,  8, -1])"
            ]
          },
          "metadata": {},
          "execution_count": 18
        }
      ]
    },
    {
      "cell_type": "markdown",
      "metadata": {
        "id": "jHTYISClOWOC"
      },
      "source": [
        "**Reverse the columns of a 2D array :**"
      ]
    },
    {
      "cell_type": "code",
      "metadata": {
        "colab": {
          "base_uri": "https://localhost:8080/"
        },
        "id": "uDBy3jNXOe9H",
        "outputId": "48b64934-c261-4b46-c3b0-1e1af92dcbec"
      },
      "source": [
        "arr = np.arange(9).reshape(3,3)\n",
        "print(\"Original Array : \\n\",arr)\n",
        "rev_arr = np.flip(arr, axis=0)\n",
        "print(\"Reversed Array : \\n\",rev_arr)"
      ],
      "execution_count": null,
      "outputs": [
        {
          "output_type": "stream",
          "name": "stdout",
          "text": [
            "Original Array : \n",
            " [[0 1 2]\n",
            " [3 4 5]\n",
            " [6 7 8]]\n",
            "Reversed Array : \n",
            " [[6 7 8]\n",
            " [3 4 5]\n",
            " [0 1 2]]\n"
          ]
        }
      ]
    },
    {
      "cell_type": "markdown",
      "metadata": {
        "id": "FU-hlXjcPKm8"
      },
      "source": [
        "**Make use of numpy to accept atleast 20 numbers and perform the following :**"
      ]
    },
    {
      "cell_type": "code",
      "metadata": {
        "colab": {
          "base_uri": "https://localhost:8080/"
        },
        "id": "_mrr0d2bPtGn",
        "outputId": "e6e3eb10-9449-42f8-cf73-95b07a6469ee"
      },
      "source": [
        "rows = int(input(\"Enter the number of rows : \"))\n",
        "col = int(input(\"Enter the number of columns : \"))\n",
        "print(\"Enter the elements separated by a space : \\n\")\n",
        "ele = list(map(int, input().split()))\n",
        "arr = np.array(ele).reshape(rows,col)\n",
        "print(\"Array : \\n\",arr)"
      ],
      "execution_count": null,
      "outputs": [
        {
          "output_type": "stream",
          "name": "stdout",
          "text": [
            "Enter the number of rows : 4\n",
            "Enter the number of columns : 5\n",
            "Enter the elements separated by a space : \n",
            "\n",
            "1 2 3 4 5 6 7 8 9 10 11 12 13 14 15 16 17 18 19 20\n",
            "Array : \n",
            " [[ 1  2  3  4  5]\n",
            " [ 6  7  8  9 10]\n",
            " [11 12 13 14 15]\n",
            " [16 17 18 19 20]]\n"
          ]
        }
      ]
    },
    {
      "cell_type": "markdown",
      "metadata": {
        "id": "53ixt7BCTS1s"
      },
      "source": [
        "Categorize as odd and even :"
      ]
    },
    {
      "cell_type": "code",
      "metadata": {
        "colab": {
          "base_uri": "https://localhost:8080/"
        },
        "id": "HlPcdgPCTW0t",
        "outputId": "68b70125-1ff3-4594-cb9b-253e41dad271"
      },
      "source": [
        "odd_arr = arr[arr % 2 == 1]\n",
        "eve_arr = arr[arr % 2 == 0]\n",
        "print(\"Odd numbers :\",odd_arr)\n",
        "print(\"Even numbers :\",eve_arr)"
      ],
      "execution_count": null,
      "outputs": [
        {
          "output_type": "stream",
          "name": "stdout",
          "text": [
            "Odd numbers : [ 1  3  5  7  9 11 13 15 17 19]\n",
            "Even numbers : [ 2  4  6  8 10 12 14 16 18 20]\n"
          ]
        }
      ]
    },
    {
      "cell_type": "markdown",
      "metadata": {
        "id": "HH0f6X9CUaGs"
      },
      "source": [
        "Print these categories using MATPLOTLIB :"
      ]
    },
    {
      "cell_type": "code",
      "metadata": {
        "id": "VejP6kd3_QrC"
      },
      "source": [
        "import matplotlib.pyplot as plt\n",
        "%matplotlib inline"
      ],
      "execution_count": null,
      "outputs": []
    },
    {
      "cell_type": "code",
      "metadata": {
        "colab": {
          "base_uri": "https://localhost:8080/",
          "height": 367
        },
        "id": "Ic_ritfv-E2a",
        "outputId": "c3bab324-6af0-47f6-b68c-87b6c63f0f80"
      },
      "source": [
        "plt.figure(figsize=(10, 5))\n",
        "plt.plot(odd_arr,'r*')\n",
        "plt.plot(eve_arr,'b*')\n",
        "plt.legend(['odd','even'])\n",
        "plt.xticks(range(0,10))\n",
        "plt.yticks(np.arange(0, 21, 5))\n",
        "plt.title(\"Plotting Even and Odd Numbers\")\n",
        "plt.xlabel(\"Element Number\")\n",
        "plt.ylabel(\"Value\")"
      ],
      "execution_count": null,
      "outputs": [
        {
          "output_type": "execute_result",
          "data": {
            "text/plain": [
              "Text(0, 0.5, 'Value')"
            ]
          },
          "metadata": {},
          "execution_count": 48
        },
        {
          "output_type": "display_data",
          "data": {
            "image/png": "[encoded data removed]",
            "text/plain": [
              "<Figure size 720x360 with 1 Axes>"
            ]
          },
          "metadata": {
            "needs_background": "light"
          }
        }
      ]
    },
    {
      "cell_type": "markdown",
      "metadata": {
        "id": "IEYn74H7VCci"
      },
      "source": [
        "Categorize as prime and non prime:"
      ]
    },
    {
      "cell_type": "code",
      "metadata": {
        "colab": {
          "base_uri": "https://localhost:8080/"
        },
        "id": "GIz4QXUbVJ3p",
        "outputId": "0d2850cd-1fe7-4635-ae6c-8bd05b0b7f18"
      },
      "source": [
        "import math\n",
        "def is_prime(n): \n",
        "    if n % 2 == 0 and n > 2: \n",
        "        return False\n",
        "    return all(n % i for i in range(3, int(math.sqrt(n)) + 1, 2))\n",
        "\n",
        "a = np.vectorize(is_prime)\n",
        "prime_bools = a(arr)\n",
        "primes = np.extract(prime_bools, arr)\n",
        "print(\"Prime Numbers : \\n\",primes)\n",
        "\n",
        "non_p = np.invert(prime_bools)\n",
        "non_primes = np.extract(non_p,arr)\n",
        "print(\"Non Primes : \\n\",non_primes)\n",
        "\n",
        "\n",
        " "
      ],
      "execution_count": null,
      "outputs": [
        {
          "output_type": "stream",
          "name": "stdout",
          "text": [
            "Prime Numbers : \n",
            " [ 1  2  3  5  7 11 13 17 19]\n",
            "Non Primes : \n",
            " [ 4  6  8  9 10 12 14 15 16 18 20]\n"
          ]
        }
      ]
    },
    {
      "cell_type": "markdown",
      "metadata": {
        "id": "61xyoTQVKgam"
      },
      "source": [
        "Plotting Primes and Non Primes : "
      ]
    },
    {
      "cell_type": "code",
      "metadata": {
        "colab": {
          "base_uri": "https://localhost:8080/",
          "height": 367
        },
        "id": "BqC7PWMiKlVN",
        "outputId": "39b72bce-284b-4afc-913b-d307e69e65f6"
      },
      "source": [
        "plt.figure(figsize=(10, 5))\n",
        "plt.plot(primes,'purple', marker='o')\n",
        "plt.plot(non_primes,'orange', marker='o')\n",
        "plt.legend(['Prime','non prime'])\n",
        "plt.xticks(range(0,10))\n",
        "plt.yticks(np.arange(0, 21, 5))\n",
        "plt.title(\"Plotting Primes and Non Primes\")\n",
        "plt.xlabel(\"Element Number\")\n",
        "plt.ylabel(\"Value\")"
      ],
      "execution_count": null,
      "outputs": [
        {
          "output_type": "execute_result",
          "data": {
            "text/plain": [
              "Text(0, 0.5, 'Value')"
            ]
          },
          "metadata": {},
          "execution_count": 65
        },
        {
          "output_type": "display_data",
          "data": {
            "image/png": "[encoded data removed]",
            "text/plain": [
              "<Figure size 720x360 with 1 Axes>"
            ]
          },
          "metadata": {
            "needs_background": "light"
          }
        }
      ]
    },
    {
      "cell_type": "markdown",
      "metadata": {
        "id": "Zz2ONpoFoYP2"
      },
      "source": [
        "Identify minimum/maximum number :"
      ]
    },
    {
      "cell_type": "code",
      "metadata": {
        "colab": {
          "base_uri": "https://localhost:8080/"
        },
        "id": "EnmTi5wDocT_",
        "outputId": "9d00331b-a5f9-4cad-88c9-1801c1b3d56d"
      },
      "source": [
        "print(\"Min element : \",np.min(arr))\n",
        "print(\"Max element : \",np.max(arr))"
      ],
      "execution_count": null,
      "outputs": [
        {
          "output_type": "stream",
          "name": "stdout",
          "text": [
            "Min element :  1\n",
            "Max element :  20\n"
          ]
        }
      ]
    }
  ]
}